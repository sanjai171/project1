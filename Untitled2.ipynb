{
  "nbformat": 4,
  "nbformat_minor": 0,
  "metadata": {
    "colab": {
      "name": "Untitled2.ipynb",
      "provenance": [],
      "authorship_tag": "ABX9TyNZUqB0C1gj4Yks96dpW5s1",
      "include_colab_link": true
    },
    "kernelspec": {
      "name": "python3",
      "display_name": "Python 3"
    }
  },
  "cells": [
    {
      "cell_type": "markdown",
      "metadata": {
        "id": "view-in-github",
        "colab_type": "text"
      },
      "source": [
        "<a href=\"https://colab.research.google.com/github/sanjai171/project1/blob/master/Untitled2.ipynb\" target=\"_parent\"><img src=\"https://colab.research.google.com/assets/colab-badge.svg\" alt=\"Open In Colab\"/></a>"
      ]
    },
    {
      "cell_type": "code",
      "metadata": {
        "id": "Ppoxn60-VWP5",
        "colab_type": "code",
        "colab": {}
      },
      "source": [
        "from telegram.ext import Updater,CommandHandler,MessageHandler,Filters\n",
        "from Adafruit_IO import Client,Data\n",
        "import os\n",
        "\n",
        "def turnoffthelight(update, context):\n",
        "  context.bot.send_message(chat_id=update.effective_chat.id, text=\"Bulb turned off\")\n",
        "  context.bot.send_photo(chat_id=update.effective_chat.id,photo='https://i.pinimg.com/originals/17/14/6e/17146e5dbf58e7b544472afc23cabced.jpg')\n",
        "  send_value(0)\n",
        "def turnonthelight(update, context):\n",
        "  context.bot.send_message(chat_id=update.effective_chat.id, text=\"Bulb turned on\")\n",
        "  context.bot.send_photo(chat_id=update.effective_chat.id,photo='https://cdn4.vectorstock.com/i/1000x1000/48/08/realistic-glowing-light-bulb-on-dark-background-vector-3374808.jpg')\n",
        "  send_value(1)\n",
        "\n",
        "def send_value(value):\n",
        "  feed = aio.feeds('bot001')\n",
        "  aio.send_data(feed.key,value)\n",
        "\n",
        "def input_message(update, context):\n",
        "  text=update.message.text\n",
        "  if text == 'turnonthelight':\n",
        "    send_value(1)\n",
        "    context.bot.send_message(chat_id=update.effective_chat.id,text=\"Bulb turned on\")\n",
        "    context.bot.send_photo(chat_id=update.effective_chat.id,photo='https://cdn4.vectorstock.com/i/1000x1000/48/08/realistic-glowing-light-bulb-on-dark-background-vector-3374808.jpg')\n",
        "  elif text == 'turnoffthelight':\n",
        "    send_value(0)\n",
        "    context.bot.send_message(chat_id=update.effective_chat.id,text=\"Bulb turned off\")\n",
        "    context.bot.send_photo(chat_id=update.effective_chat.id,photo='https://i.pinimg.com/originals/17/14/6e/17146e5dbf58e7b544472afc23cabced.jpg')\n",
        "\n",
        "def start(update,context):\n",
        "  start_message='''\n",
        "/turnoff the light or 'turn off':To turn off the bulb ,sends value=0 in feed\n",
        "/turnon the light or 'turn on'  :To turn on the bulb ,sends value=1 in feed\n",
        "'''\n",
        "  context.bot.send_message(chat_id=update.effective_chat.id, text=start_message)\n",
        "\n",
        "ADAFRUIT_IO_USERNAME =  os.getenv('SANJAI171')\n",
        "ADAFRUIT_IO_KEY = os.getenv('aio_zuBW25tMUoUCSAXVm94m73oLk3s8')\n",
        "TOKEN = os.getenv('1230158973:AAG3Y-UZSRghqSRiRgAaoZSmgloUikZ5LYA')\n",
        "\n",
        "aio = Client(ADAFRUIT_IO_USERNAME,ADAFRUIT_IO_KEY)\n",
        "updater=Updater(TOKEN,use_context=True)\n",
        "dispatcher = updater.dispatcher\n",
        "dispatcher.add_handler(CommandHandler('turnoffthelight',turnoffthelight))\n",
        "dispatcher.add_handler(CommandHandler('turnonthelight',turnonthelight))\n",
        "dispatcher.add_handler(CommandHandler('start',start))\n",
        "dispatcher.add_handler(MessageHandler(Filters.text & (~Filters.command),input_message))\n",
        "updater.start_polling()\n",
        "updater.idle()"
      ],
      "execution_count": null,
      "outputs": []
    },
    {
      "cell_type": "code",
      "metadata": {
        "id": "vHccmYMDW7QQ",
        "colab_type": "code",
        "colab": {}
      },
      "source": [
        ""
      ],
      "execution_count": null,
      "outputs": []
    },
    {
      "cell_type": "code",
      "metadata": {
        "id": "F9QlTsfbW7om",
        "colab_type": "code",
        "colab": {}
      },
      "source": [
        ""
      ],
      "execution_count": null,
      "outputs": []
    }
  ]
}