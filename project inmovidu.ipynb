{
  "nbformat": 4,
  "nbformat_minor": 0,
  "metadata": {
    "colab": {
      "name": "Copy of Untitled4.ipynb",
      "provenance": [],
      "collapsed_sections": [],
      "include_colab_link": true
    },
    "kernelspec": {
      "name": "python3",
      "display_name": "Python 3"
    }
  },
  "cells": [
    {
      "cell_type": "markdown",
      "metadata": {
        "id": "view-in-github",
        "colab_type": "text"
      },
      "source": [
        "<a href=\"https://colab.research.google.com/github/sanjai171/project1/blob/master/project%20inmovidu.ipynb\" target=\"_parent\"><img src=\"https://colab.research.google.com/assets/colab-badge.svg\" alt=\"Open In Colab\"/></a>"
      ]
    },
    {
      "cell_type": "code",
      "metadata": {
        "id": "qkPxsy4L9MkS",
        "colab_type": "code",
        "colab": {
          "base_uri": "https://localhost:8080/",
          "height": 622
        },
        "outputId": "63dabc42-59c5-416e-ea00-cfcf8357d898"
      },
      "source": [
        "!pip install python-telegram-bot\n",
        "!pip install adafruit-io\n",
        "from telegram.ext import Updater,CommandHandler,MessageHandler,Filters\n",
        "from Adafruit_IO import Client,Data\n",
        "import os\n",
        " \n",
        "def turnoffthelight(update, context):\n",
        "  context.bot.send_message(chat_id=update.effective_chat.id, text=\"Bulb turned off\")\n",
        "  context.bot.send_photo(chat_id=update.effective_chat.id,photo='https://i.pinimg.com/originals/17/14/6e/17146e5dbf58e7b544472afc23cabced.jpg')\n",
        "  send_value(0)\n",
        "def turnonthelight(update, context):\n",
        "  context.bot.send_message(chat_id=update.effective_chat.id, text=\"Bulb turned on\")\n",
        "  context.bot.send_photo(chat_id=update.effective_chat.id,photo='https://cdn4.vectorstock.com/i/1000x1000/48/08/realistic-glowing-light-bulb-on-dark-background-vector-3374808.jpg')\n",
        "  send_value(1)\n",
        " \n",
        "def send_value(value):\n",
        "  feed = aio.feeds('bot001')\n",
        "  aio.send_data(feed.key,value)\n",
        " \n",
        "def input_message(update, context):\n",
        "  text=update.message.text\n",
        "  if text == 'turnonthelight':\n",
        "    send_value(1)\n",
        "    context.bot.send_message(chat_id=update.effective_chat.id,text=\"Bulb turned on\")\n",
        "    context.bot.send_photo(chat_id=update.effective_chat.id,photo='https://cdn4.vectorstock.com/i/1000x1000/48/08/realistic-glowing-light-bulb-on-dark-background-vector-3374808.jpg')\n",
        "  elif text == 'turnoffthelight':\n",
        "    send_value(0)\n",
        "    context.bot.send_message(chat_id=update.effective_chat.id,text=\"Bulb turned off\")\n",
        "    context.bot.send_photo(chat_id=update.effective_chat.id,photo='https://i.pinimg.com/originals/17/14/6e/17146e5dbf58e7b544472afc23cabced.jpg')\n",
        " \n",
        "def start(update,context):\n",
        "  start_message='''\n",
        "/turnoff the light or 'turn off':To turn off the bulb ,sends value=0 in feed\n",
        "/turnon the light or 'turn on'  :To turn on the bulb ,sends value=1 in feed\n",
        "'''\n",
        "  context.bot.send_message(chat_id=update.effective_chat.id, text=start_message)\n",
        " \n",
        "ADAFRUIT_IO_USERNAME =  os.getenv('SANJAI171')\n",
        "ADAFRUIT_IO_KEY = os.getenv('aio_NDaf94ULRZPNJPYkfAPjh5GbdXzT')\n",
        "TOKEN = os.getenv('1278838914:AAHEvOjtlHXWmEZTJVrGNANfai56a3UMVpg')\n",
        " \n",
        "\n",
        "aio = Client(ADAFRUIT_IO_USERNAME,ADAFRUIT_IO_KEY)\n",
        "updater=Updater(TOKEN,use_context=True)\n",
        "dispatcher = updater.dispatcher\n",
        "dispatcher.add_handler(CommandHandler('turnoffthelight',turnoffthelight))\n",
        "dispatcher.add_handler(CommandHandler('turnonthelight',turnonthelight))\n",
        "dispatcher.add_handler(CommandHandler('start',start))\n",
        "dispatcher.add_handler(MessageHandler(Filters.text & (~Filters.command),input_message))\n",
        "updater.start_polling()\n",
        "updater.idle()"
      ],
      "execution_count": null,
      "outputs": [
        {
          "output_type": "stream",
          "text": [
            "Requirement already satisfied: python-telegram-bot in /usr/local/lib/python3.6/dist-packages (12.8)\n",
            "Requirement already satisfied: certifi in /usr/local/lib/python3.6/dist-packages (from python-telegram-bot) (2020.6.20)\n",
            "Requirement already satisfied: tornado>=5.1 in /usr/local/lib/python3.6/dist-packages (from python-telegram-bot) (5.1.1)\n",
            "Requirement already satisfied: decorator>=4.4.0 in /usr/local/lib/python3.6/dist-packages (from python-telegram-bot) (4.4.2)\n",
            "Requirement already satisfied: cryptography in /usr/local/lib/python3.6/dist-packages (from python-telegram-bot) (3.1)\n",
            "Requirement already satisfied: six>=1.4.1 in /usr/local/lib/python3.6/dist-packages (from cryptography->python-telegram-bot) (1.15.0)\n",
            "Requirement already satisfied: cffi!=1.11.3,>=1.8 in /usr/local/lib/python3.6/dist-packages (from cryptography->python-telegram-bot) (1.14.2)\n",
            "Requirement already satisfied: pycparser in /usr/local/lib/python3.6/dist-packages (from cffi!=1.11.3,>=1.8->cryptography->python-telegram-bot) (2.20)\n",
            "Requirement already satisfied: adafruit-io in /usr/local/lib/python3.6/dist-packages (2.4.0)\n",
            "Requirement already satisfied: paho-mqtt in /usr/local/lib/python3.6/dist-packages (from adafruit-io) (1.5.0)\n",
            "Requirement already satisfied: requests in /usr/local/lib/python3.6/dist-packages (from adafruit-io) (2.23.0)\n",
            "Requirement already satisfied: urllib3!=1.25.0,!=1.25.1,<1.26,>=1.21.1 in /usr/local/lib/python3.6/dist-packages (from requests->adafruit-io) (1.24.3)\n",
            "Requirement already satisfied: certifi>=2017.4.17 in /usr/local/lib/python3.6/dist-packages (from requests->adafruit-io) (2020.6.20)\n",
            "Requirement already satisfied: idna<3,>=2.5 in /usr/local/lib/python3.6/dist-packages (from requests->adafruit-io) (2.10)\n",
            "Requirement already satisfied: chardet<4,>=3.0.2 in /usr/local/lib/python3.6/dist-packages (from requests->adafruit-io) (3.0.4)\n"
          ],
          "name": "stdout"
        },
        {
          "output_type": "error",
          "ename": "ValueError",
          "evalue": "ignored",
          "traceback": [
            "\u001b[0;31m---------------------------------------------------------------------------\u001b[0m",
            "\u001b[0;31mValueError\u001b[0m                                Traceback (most recent call last)",
            "\u001b[0;32m<ipython-input-2-457a540920de>\u001b[0m in \u001b[0;36m<module>\u001b[0;34m()\u001b[0m\n\u001b[1;32m     42\u001b[0m \u001b[0;34m\u001b[0m\u001b[0m\n\u001b[1;32m     43\u001b[0m \u001b[0maio\u001b[0m \u001b[0;34m=\u001b[0m \u001b[0mClient\u001b[0m\u001b[0;34m(\u001b[0m\u001b[0mADAFRUIT_IO_USERNAME\u001b[0m\u001b[0;34m,\u001b[0m\u001b[0mADAFRUIT_IO_KEY\u001b[0m\u001b[0;34m)\u001b[0m\u001b[0;34m\u001b[0m\u001b[0;34m\u001b[0m\u001b[0m\n\u001b[0;32m---> 44\u001b[0;31m \u001b[0mupdater\u001b[0m\u001b[0;34m=\u001b[0m\u001b[0mUpdater\u001b[0m\u001b[0;34m(\u001b[0m\u001b[0mTOKEN\u001b[0m\u001b[0;34m,\u001b[0m\u001b[0muse_context\u001b[0m\u001b[0;34m=\u001b[0m\u001b[0;32mTrue\u001b[0m\u001b[0;34m)\u001b[0m\u001b[0;34m\u001b[0m\u001b[0;34m\u001b[0m\u001b[0m\n\u001b[0m\u001b[1;32m     45\u001b[0m \u001b[0mdispatcher\u001b[0m \u001b[0;34m=\u001b[0m \u001b[0mupdater\u001b[0m\u001b[0;34m.\u001b[0m\u001b[0mdispatcher\u001b[0m\u001b[0;34m\u001b[0m\u001b[0;34m\u001b[0m\u001b[0m\n\u001b[1;32m     46\u001b[0m \u001b[0mdispatcher\u001b[0m\u001b[0;34m.\u001b[0m\u001b[0madd_handler\u001b[0m\u001b[0;34m(\u001b[0m\u001b[0mCommandHandler\u001b[0m\u001b[0;34m(\u001b[0m\u001b[0;34m'turnoffthelight'\u001b[0m\u001b[0;34m,\u001b[0m\u001b[0mturnoffthelight\u001b[0m\u001b[0;34m)\u001b[0m\u001b[0;34m)\u001b[0m\u001b[0;34m\u001b[0m\u001b[0;34m\u001b[0m\u001b[0m\n",
            "\u001b[0;32m/usr/local/lib/python3.6/dist-packages/telegram/ext/updater.py\u001b[0m in \u001b[0;36m__init__\u001b[0;34m(self, token, base_url, workers, bot, private_key, private_key_password, user_sig_handler, request_kwargs, persistence, defaults, use_context, dispatcher, base_file_url)\u001b[0m\n\u001b[1;32m    119\u001b[0m         \u001b[0;32mif\u001b[0m \u001b[0mdispatcher\u001b[0m \u001b[0;32mis\u001b[0m \u001b[0;32mNone\u001b[0m\u001b[0;34m:\u001b[0m\u001b[0;34m\u001b[0m\u001b[0;34m\u001b[0m\u001b[0m\n\u001b[1;32m    120\u001b[0m             \u001b[0;32mif\u001b[0m \u001b[0;34m(\u001b[0m\u001b[0mtoken\u001b[0m \u001b[0;32mis\u001b[0m \u001b[0;32mNone\u001b[0m\u001b[0;34m)\u001b[0m \u001b[0;32mand\u001b[0m \u001b[0;34m(\u001b[0m\u001b[0mbot\u001b[0m \u001b[0;32mis\u001b[0m \u001b[0;32mNone\u001b[0m\u001b[0;34m)\u001b[0m\u001b[0;34m:\u001b[0m\u001b[0;34m\u001b[0m\u001b[0;34m\u001b[0m\u001b[0m\n\u001b[0;32m--> 121\u001b[0;31m                 \u001b[0;32mraise\u001b[0m \u001b[0mValueError\u001b[0m\u001b[0;34m(\u001b[0m\u001b[0;34m'`token` or `bot` must be passed'\u001b[0m\u001b[0;34m)\u001b[0m\u001b[0;34m\u001b[0m\u001b[0;34m\u001b[0m\u001b[0m\n\u001b[0m\u001b[1;32m    122\u001b[0m             \u001b[0;32mif\u001b[0m \u001b[0;34m(\u001b[0m\u001b[0mtoken\u001b[0m \u001b[0;32mis\u001b[0m \u001b[0;32mnot\u001b[0m \u001b[0;32mNone\u001b[0m\u001b[0;34m)\u001b[0m \u001b[0;32mand\u001b[0m \u001b[0;34m(\u001b[0m\u001b[0mbot\u001b[0m \u001b[0;32mis\u001b[0m \u001b[0;32mnot\u001b[0m \u001b[0;32mNone\u001b[0m\u001b[0;34m)\u001b[0m\u001b[0;34m:\u001b[0m\u001b[0;34m\u001b[0m\u001b[0;34m\u001b[0m\u001b[0m\n\u001b[1;32m    123\u001b[0m                 \u001b[0;32mraise\u001b[0m \u001b[0mValueError\u001b[0m\u001b[0;34m(\u001b[0m\u001b[0;34m'`token` and `bot` are mutually exclusive'\u001b[0m\u001b[0;34m)\u001b[0m\u001b[0;34m\u001b[0m\u001b[0;34m\u001b[0m\u001b[0m\n",
            "\u001b[0;31mValueError\u001b[0m: `token` or `bot` must be passed"
          ]
        }
      ]
    }
  ]
}